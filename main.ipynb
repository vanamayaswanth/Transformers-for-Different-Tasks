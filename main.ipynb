{
 "cells": [
  {
   "cell_type": "code",
   "execution_count": 1,
   "metadata": {},
   "outputs": [],
   "source": [
    "import nltk\n",
    "import numpy as np\n",
    "import pandas as pd\n",
    "import re"
   ]
  },
  {
   "cell_type": "code",
   "execution_count": 2,
   "metadata": {},
   "outputs": [
    {
     "name": "stdout",
     "output_type": "stream",
     "text": [
      "['My', 'name', 'is', 'yaswanth', 'and', 'I', 'am', 'a', 'student']\n",
      "[('My', 'PRP$'), ('name', 'NN'), ('is', 'VBZ'), ('yaswanth', 'JJ'), ('and', 'CC'), ('I', 'PRP'), ('am', 'VBP'), ('a', 'DT'), ('student', 'NN')]\n"
     ]
    }
   ],
   "source": [
    "tokens=nltk.word_tokenize(\"My name is yaswanth and I am a student\") \n",
    "print(tokens)\n",
    "pos=nltk.pos_tag(tokens)\n",
    "print(pos)\n",
    "\n"
   ]
  },
  {
   "cell_type": "code",
   "execution_count": 3,
   "metadata": {},
   "outputs": [
    {
     "name": "stderr",
     "output_type": "stream",
     "text": [
      "Downloading: 100%|██████████| 28.0/28.0 [00:00<00:00, 4.67kB/s]\n",
      "Downloading: 100%|██████████| 226k/226k [00:00<00:00, 272kB/s]  \n",
      "Downloading: 100%|██████████| 455k/455k [00:01<00:00, 412kB/s]  \n",
      "Downloading: 100%|██████████| 570/570 [00:00<00:00, 185kB/s]"
     ]
    },
    {
     "name": "stdout",
     "output_type": "stream",
     "text": [
      "['my', 'name', 'is', 'ya', '##sw', '##ant', '##h', 'and', 'i', 'am', 'a', 'student']\n"
     ]
    },
    {
     "name": "stderr",
     "output_type": "stream",
     "text": [
      "\n"
     ]
    }
   ],
   "source": [
    "from transformers import BertTokenizer\n",
    "tokenizer = BertTokenizer.from_pretrained('bert-base-uncased')\n",
    "print(tokenizer.tokenize(\"My name is yaswanth and I am a student\"))"
   ]
  },
  {
   "cell_type": "code",
   "execution_count": 7,
   "metadata": {},
   "outputs": [
    {
     "name": "stderr",
     "output_type": "stream",
     "text": [
      "No model was supplied, defaulted to distilbert-base-uncased-finetuned-sst-2-english (https://huggingface.co/distilbert-base-uncased-finetuned-sst-2-english)\n",
      "Downloading: 100%|██████████| 629/629 [00:00<00:00, 301kB/s]\n",
      "Downloading: 100%|██████████| 255M/255M [00:16<00:00, 16.1MB/s]   \n",
      "Downloading: 100%|██████████| 48.0/48.0 [00:00<00:00, 13.4kB/s]\n",
      "Downloading: 100%|██████████| 226k/226k [00:00<00:00, 254kB/s]  \n"
     ]
    },
    {
     "name": "stdout",
     "output_type": "stream",
     "text": [
      "[{'label': 'POSITIVE', 'score': 0.9924311637878418}]\n"
     ]
    }
   ],
   "source": [
    "from transformers import pipeline\n",
    "nlp=pipeline(\"text-classification\")\n",
    "print(nlp(\"My name is yaswanth and I am a student\"))\n"
   ]
  },
  {
   "cell_type": "code",
   "execution_count": 8,
   "metadata": {},
   "outputs": [
    {
     "name": "stderr",
     "output_type": "stream",
     "text": [
      "No model was supplied, defaulted to distilbert-base-uncased-finetuned-sst-2-english (https://huggingface.co/distilbert-base-uncased-finetuned-sst-2-english)\n"
     ]
    },
    {
     "name": "stdout",
     "output_type": "stream",
     "text": [
      "[{'label': 'NEGATIVE', 'score': 0.9998090863227844}]\n",
      "[{'label': 'POSITIVE', 'score': 0.9998571872711182}]\n"
     ]
    }
   ],
   "source": [
    "nlp=pipeline(\"sentiment-analysis\")\n",
    "print(nlp(\"the movie is bad\"))\n",
    "print(nlp(\"the movie is good\"))"
   ]
  },
  {
   "cell_type": "code",
   "execution_count": 9,
   "metadata": {},
   "outputs": [
    {
     "name": "stderr",
     "output_type": "stream",
     "text": [
      "Downloading: 100%|██████████| 665/665 [00:00<00:00, 333kB/s]\n",
      "Downloading: 100%|██████████| 523M/523M [00:33<00:00, 16.1MB/s] \n",
      "Downloading: 100%|██████████| 0.99M/0.99M [00:01<00:00, 858kB/s] \n",
      "Downloading: 100%|██████████| 446k/446k [00:01<00:00, 404kB/s]  \n",
      "Downloading: 100%|██████████| 1.29M/1.29M [00:01<00:00, 741kB/s] \n",
      "Setting `pad_token_id` to `eos_token_id`:50256 for open-end generation.\n"
     ]
    },
    {
     "name": "stdout",
     "output_type": "stream",
     "text": [
      "[{'generated_text': \"the movie is bad.) The other aspect of this movie he is pretty good at is making people believe he's really, truly good at something. He does, he's like in the movie, he actually gets to do a lot of great things but\"}]\n"
     ]
    }
   ],
   "source": [
    "nlp=pipeline(\"text-generation\",model=\"gpt2\")\n",
    "print(nlp(\"the movie is bad\"))"
   ]
  },
  {
   "cell_type": "code",
   "execution_count": 10,
   "metadata": {},
   "outputs": [
    {
     "name": "stderr",
     "output_type": "stream",
     "text": [
      "Setting `pad_token_id` to `eos_token_id`:50256 for open-end generation.\n"
     ]
    },
    {
     "name": "stdout",
     "output_type": "stream",
     "text": [
      "[{'generated_text': 'the movie is bad). The script was edited over three and a half hours and all of the changes were done during production on the DVD.\\n\\nRated 5 out of 5 by Bumjoe from I could take him out of the movie and'}]\n"
     ]
    }
   ],
   "source": [
    "nlp=pipeline(\"text-generation\",model=\"gpt2\")\n",
    "print(nlp(\"the movie is bad\"))"
   ]
  },
  {
   "cell_type": "code",
   "execution_count": 11,
   "metadata": {},
   "outputs": [
    {
     "name": "stderr",
     "output_type": "stream",
     "text": [
      "No model was supplied, defaulted to sshleifer/distilbart-cnn-12-6 (https://huggingface.co/sshleifer/distilbart-cnn-12-6)\n",
      "Downloading: 100%|██████████| 1.76k/1.76k [00:00<00:00, 863kB/s]\n",
      "Downloading: 100%|██████████| 1.14G/1.14G [01:11<00:00, 17.0MB/s]\n",
      "Downloading: 100%|██████████| 26.0/26.0 [00:00<00:00, 8.64kB/s]\n",
      "Downloading: 100%|██████████| 878k/878k [00:01<00:00, 664kB/s]  \n",
      "Downloading: 100%|██████████| 446k/446k [00:01<00:00, 417kB/s]  \n"
     ]
    },
    {
     "name": "stdout",
     "output_type": "stream",
     "text": [
      "[{'summary_text': \" Elon Reeve Musk is a business magnate and investor . He is the founder, CEO, and Chief Engineer at SpaceX and co-founder of The Boring Company . With an estimated net worth of around US$221.4 billion as of July 2022, Musk is the wealthiest person in the world according to both the Bloomberg Billionaires Index and Forbes' real-time billionaires list . Musk has been criticized for making unscientific and controversial statements .\"}]\n"
     ]
    }
   ],
   "source": [
    "#text summarization\n",
    "nlp=pipeline(\"summarization\")\n",
    "print(nlp(\"\"\"Elon Reeve Musk FRS (/ˈiːlɒn/ EE-lon; born June 28, 1971) is a business magnate and investor. He is the founder, CEO, and Chief Engineer at SpaceX; angel investor, CEO, and Product Architect of Tesla, Inc.; founder of The Boring Company; and co-founder of Neuralink and OpenAI. With an estimated net worth of around US$221.4 billion as of July 2022,[5] Musk is the wealthiest person in the world according to both the Bloomberg Billionaires Index and Forbes' real-time billionaires list.[6][7]\n",
    "\n",
    "Musk was born to White South African parents in Pretoria, where he grew up. He briefly attended the University of Pretoria before moving to Canada at age 17, acquiring citizenship through his Canadian-born mother. Two years later, he matriculated at Queen's University and transferred to the University of Pennsylvania, where he received bachelor's degrees in Economics and Physics. He moved to California in 1995 to attend Stanford University but decided instead to pursue a business career, co-founding the web software company Zip2 with his brother Kimbal. The startup was acquired by Compaq for $307 million in 1999. The same year, Musk co-founded online bank X.com, which merged with Confinity in 2000 to form PayPal. The company was bought by eBay in 2002 for $1.5 billion.\n",
    "\n",
    "In 2002, Musk founded SpaceX, an aerospace manufacturer and space transport services company, of which he serves as CEO and Chief Engineer. In 2004, he was an early investor in electric vehicle manufacturer Tesla Motors, Inc. (now Tesla, Inc.). He became its chairman and product architect, eventually assuming the position of CEO in 2008. In 2006, he helped create SolarCity, a solar energy company that was later acquired by Tesla and became Tesla Energy. In 2015, he co-founded OpenAI, a nonprofit research company promoting friendly artificial intelligence (AI). In 2016, he co-founded Neuralink, a neurotechnology company focused on developing brain–computer interfaces, and founded The Boring Company, a tunnel construction company. He agreed to purchase the major American social networking service Twitter in 2022 for $44 billion. Musk has proposed the Hyperloop, a high-speed vactrain transportation system, and is the president of the Musk Foundation, an organization which donates to scientific research and education.\n",
    "\n",
    "Musk has been criticized for making unscientific and controversial statements, such as spreading misinformation about the COVID-19 pandemic. In 2018, he was sued by the US Securities and Exchange Commission (SEC) for falsely tweeting that he had secured funding for a private takeover of Tesla; he settled with the SEC but did not admit guilt, and he temporarily stepped down from his Tesla chairmanship. In 2019, he won a defamation case brought against him by a British caver who had advised in the Tham Luang cave rescue.\"\"\"))"
   ]
  },
  {
   "cell_type": "code",
   "execution_count": null,
   "metadata": {},
   "outputs": [],
   "source": []
  }
 ],
 "metadata": {
  "kernelspec": {
   "display_name": "Python 3.6.13 ('gr')",
   "language": "python",
   "name": "python3"
  },
  "language_info": {
   "codemirror_mode": {
    "name": "ipython",
    "version": 3
   },
   "file_extension": ".py",
   "mimetype": "text/x-python",
   "name": "python",
   "nbconvert_exporter": "python",
   "pygments_lexer": "ipython3",
   "version": "3.6.13"
  },
  "orig_nbformat": 4,
  "vscode": {
   "interpreter": {
    "hash": "90c985cc047d5a65037cfccd0e7eba3544fde910f643ecb3dc813af6d7189d16"
   }
  }
 },
 "nbformat": 4,
 "nbformat_minor": 2
}
